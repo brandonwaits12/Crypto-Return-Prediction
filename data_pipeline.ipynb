{
 "cells": [
  {
   "cell_type": "code",
   "execution_count": 1,
   "metadata": {},
   "outputs": [],
   "source": [
    "import numpy as np\n",
    "import pandas as pd\n",
    "import yfinance as yf\n"
   ]
  },
  {
   "cell_type": "code",
   "execution_count": 2,
   "metadata": {},
   "outputs": [],
   "source": [
    "def clean(ticker):\n",
    "    ydf = yf.download(ticker)\n",
    "    ydf.to_csv(f'y{ticker}.csv')\n",
    "\n",
    "    btc = pd.read_csv(f'y{ticker}.csv')\n",
    "    btc = btc.drop([0,1])\n",
    "    btc['Date'] = pd.to_datetime(btc['Price']).dt.date\n",
    "    btc= btc.set_index('Date')\n",
    "    btc = btc.drop(['Price'], axis = 1)\n",
    "    btc = btc.reset_index()\n",
    "    btc['Ticker'] = ticker\n",
    "    return btc\n",
    "\n"
   ]
  },
  {
   "cell_type": "code",
   "execution_count": 3,
   "metadata": {},
   "outputs": [
    {
     "name": "stderr",
     "output_type": "stream",
     "text": [
      "[*********************100%***********************]  1 of 1 completed\n",
      "[*********************100%***********************]  1 of 1 completed\n",
      "[*********************100%***********************]  1 of 1 completed\n",
      "[*********************100%***********************]  1 of 1 completed\n",
      "[*********************100%***********************]  1 of 1 completed\n"
     ]
    }
   ],
   "source": [
    "btc = clean('BTC-USD')\n",
    "eth = clean('ETH-USD')\n",
    "dc = clean('DOGE-USD')\n",
    "usdc = clean('USDC-USD')\n",
    "bnb = clean('BNB-USD')"
   ]
  },
  {
   "cell_type": "code",
   "execution_count": 4,
   "metadata": {},
   "outputs": [],
   "source": [
    "#combine data\n",
    "data = pd.concat([btc,eth,dc,usdc,bnb])\n",
    "data['Date'] = pd.to_datetime(data.Date)\n",
    "data = data.sort_values('Date')\n",
    "data = data.query(\"Date >=  '2018-10-08'\")"
   ]
  },
  {
   "cell_type": "code",
   "execution_count": 5,
   "metadata": {},
   "outputs": [
    {
     "data": {
      "text/plain": [
       "date       datetime64[ns]\n",
       "adj_prc           float64\n",
       "prc               float64\n",
       "high              float64\n",
       "low               float64\n",
       "open              float64\n",
       "vol               float64\n",
       "tick               object\n",
       "dtype: object"
      ]
     },
     "execution_count": 5,
     "metadata": {},
     "output_type": "execute_result"
    }
   ],
   "source": [
    "#rename and fix dtype\n",
    "data = data.rename(columns = {'Date': 'date',\n",
    "                              'Adj Close': 'adj_prc',\n",
    "                              'Close': 'prc',\n",
    "                              'High': 'high',\n",
    "                              'Low': 'low',\n",
    "                              'Open': 'open',\n",
    "                              'Volume': 'vol',\n",
    "                              \"Ticker\": 'tick'\n",
    "                            })\n",
    "\n",
    "data = data.apply(lambda x: x.astype(float) if x.dtype == 'object' and x.name != 'tick' else x)\n",
    "data.set_index('date',inplace=True)\n",
    "data.reset_index(inplace = True)\n",
    "data.dtypes\n"
   ]
  },
  {
   "cell_type": "code",
   "execution_count": 6,
   "metadata": {},
   "outputs": [],
   "source": [
    "#returns\n",
    "data['ret'] = (data.adj_prc - data.open)/data.open"
   ]
  },
  {
   "cell_type": "code",
   "execution_count": 7,
   "metadata": {},
   "outputs": [],
   "source": [
    "#momentum, one month rolling window\n",
    "data['logret'] = np.log(1 + data['ret'])\n",
    "data['mom'] = data.groupby('tick')['logret'].rolling(30,30).sum().reset_index(drop=True)\n",
    "data['mom'] = data.groupby('tick')['mom'].shift(2)\n",
    "data = data.dropna(subset='mom')"
   ]
  },
  {
   "cell_type": "code",
   "execution_count": 8,
   "metadata": {},
   "outputs": [],
   "source": [
    "#dispersion\n",
    "data['disp'] = (data.high - data.low)/data.open"
   ]
  },
  {
   "cell_type": "code",
   "execution_count": 9,
   "metadata": {},
   "outputs": [],
   "source": [
    "#lag returns\n",
    "data['lagret'] = data.groupby('tick')['ret'].shift(1)\n",
    "data = data.dropna(subset='lagret')"
   ]
  },
  {
   "cell_type": "code",
   "execution_count": 10,
   "metadata": {},
   "outputs": [],
   "source": [
    "data.to_csv('proj_data.csv')"
   ]
  },
  {
   "cell_type": "code",
   "execution_count": null,
   "metadata": {},
   "outputs": [],
   "source": []
  },
  {
   "cell_type": "code",
   "execution_count": null,
   "metadata": {},
   "outputs": [],
   "source": []
  }
 ],
 "metadata": {
  "kernelspec": {
   "display_name": "Python 3",
   "language": "python",
   "name": "python3"
  },
  "language_info": {
   "codemirror_mode": {
    "name": "ipython",
    "version": 3
   },
   "file_extension": ".py",
   "mimetype": "text/x-python",
   "name": "python",
   "nbconvert_exporter": "python",
   "pygments_lexer": "ipython3",
   "version": "3.11.2"
  }
 },
 "nbformat": 4,
 "nbformat_minor": 2
}
